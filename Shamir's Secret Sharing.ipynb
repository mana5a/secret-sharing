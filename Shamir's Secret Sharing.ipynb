{
 "cells": [
  {
   "cell_type": "markdown",
   "metadata": {},
   "source": [
    "<h1> Shamir's Secret Sharing </h1>\n",
    "k of n threshold scheme. <br>\n",
    "This particular implementation is to encode a plaintext string to hex shares, which can later be recombined.<br>\n",
    "The length of the plaintext secret string that can be split and shared using this scheme is limited by the size of the prime number used."
   ]
  },
  {
   "cell_type": "markdown",
   "metadata": {},
   "source": [
    "Importing required libraries"
   ]
  },
  {
   "cell_type": "code",
   "execution_count": 2,
   "metadata": {},
   "outputs": [],
   "source": [
    "import random \n",
    "import math "
   ]
  },
  {
   "cell_type": "markdown",
   "metadata": {},
   "source": [
    "Defining the threshold k, the number of shares n and the prime number required for the modular math"
   ]
  },
  {
   "cell_type": "code",
   "execution_count": 3,
   "metadata": {},
   "outputs": [],
   "source": [
    "random.seed(1001)\n",
    "secretString=\"bandrobot band had malfunctioned\"\n",
    "threshold=2\n",
    "numberOfShares=6\n",
    "degree=threshold-1\n",
    "prime=115792089237316195423570985008687907853269984665640564039457584007913129639747"
   ]
  },
  {
   "cell_type": "markdown",
   "metadata": {},
   "source": [
    "Function to encode plaintext string to hex"
   ]
  },
  {
   "cell_type": "code",
   "execution_count": 4,
   "metadata": {},
   "outputs": [],
   "source": [
    "def encodeToHex(st):\n",
    "    temp=st.encode(\"utf-8\").hex()\n",
    "    return \"0x\"+temp"
   ]
  },
  {
   "cell_type": "markdown",
   "metadata": {},
   "source": [
    "Function to decode hex string to plaintext"
   ]
  },
  {
   "cell_type": "code",
   "execution_count": 5,
   "metadata": {},
   "outputs": [],
   "source": [
    "def decodeFromHex(st):\n",
    "    #print(\"here\",st,\"\\n\")\n",
    "    y=bytearray.fromhex(st).decode()\n",
    "    return y"
   ]
  },
  {
   "cell_type": "markdown",
   "metadata": {},
   "source": [
    "Splitting of secret into shares."
   ]
  },
  {
   "cell_type": "code",
   "execution_count": 6,
   "metadata": {},
   "outputs": [],
   "source": [
    "def splitShares(secretString):\n",
    "    if(threshold>numberOfShares):\n",
    "        raise ValueError(\"Threshold must be lower than number of shares\")\n",
    "    if(threshold<2):\n",
    "        raise ValueError(\"Threshold must at least be 2\")\n",
    "    temp=encodeToHex(secretString)    \n",
    "    secretInt = int(temp,16)    \n",
    "    points = secretIntToPoints(secretInt)\n",
    "    shares = []\n",
    "    for point in points:\n",
    "        shares.append(pointToShareString(point))\n",
    "    return shares"
   ]
  },
  {
   "cell_type": "markdown",
   "metadata": {},
   "source": [
    "Generation of random polynomial of which the free coefficient is the secret."
   ]
  },
  {
   "cell_type": "code",
   "execution_count": 7,
   "metadata": {},
   "outputs": [],
   "source": [
    "def randomPolynomial(degree,secretInt,prime): \n",
    "    coefficients=[]\n",
    "    coefficients.append(secretInt) #a0 is the secret itself\n",
    "    for i in range(degree):\n",
    "        random_coeff = random.randint(0, prime-1) #other coeffs are randomly generated\n",
    "        coefficients.append(random_coeff)\n",
    "    return coefficients"
   ]
  },
  {
   "cell_type": "markdown",
   "metadata": {},
   "source": [
    "From the randomly generated polynomial, pick n points each of which corresponds to a share of the secret."
   ]
  },
  {
   "cell_type": "code",
   "execution_count": 8,
   "metadata": {},
   "outputs": [],
   "source": [
    "def getPolynomialPoints(coefficients,numberOfShares,prime):\n",
    "    points=[]\n",
    "    for x in range(1, numberOfShares+1):\n",
    "        y = coefficients[0]\n",
    "        # calculate each term and add it to y, using modular math\n",
    "        for i in range(1, len(coefficients)):\n",
    "            exponentiation = (x**i) % prime\n",
    "            term = (coefficients[i] * exponentiation) % prime\n",
    "            y = (y + term) % prime\n",
    "        # add the point to the list of points\n",
    "        points.append((x, y))\n",
    "    return points"
   ]
  },
  {
   "cell_type": "markdown",
   "metadata": {},
   "source": [
    "Function to generate a random polynomial from the secret integer, and then generate points from that polynomial."
   ]
  },
  {
   "cell_type": "code",
   "execution_count": 9,
   "metadata": {},
   "outputs": [],
   "source": [
    "def secretIntToPoints(secretInt):\n",
    "    coefficients = randomPolynomial(degree,secretInt,prime)    \n",
    "    points = getPolynomialPoints(coefficients, numberOfShares,prime)    \n",
    "    return points"
   ]
  },
  {
   "cell_type": "markdown",
   "metadata": {},
   "source": [
    "Generate a hex string corresponding to each point from the polynomial. Each share is of the form i-f(i)"
   ]
  },
  {
   "cell_type": "code",
   "execution_count": 10,
   "metadata": {},
   "outputs": [],
   "source": [
    "def pointToShareString(point):\n",
    "    x,y=point\n",
    "    return hex(x)+\"-\"+hex(y)"
   ]
  },
  {
   "cell_type": "markdown",
   "metadata": {},
   "source": [
    "Generate the corresponding point given the hex share string"
   ]
  },
  {
   "cell_type": "code",
   "execution_count": 11,
   "metadata": {},
   "outputs": [],
   "source": [
    "def shareStringToPoint(shareString):\n",
    "    x_str,y_str=shareString.split('-')\n",
    "    x=int(x_str,16)\n",
    "    y=int(y_str,16)\n",
    "    return (x,y)"
   ]
  },
  {
   "cell_type": "markdown",
   "metadata": {},
   "source": [
    "Retrieve the secret integer from the points generated by interpolating the polynomial using Modulr Lagrange interpolation."
   ]
  },
  {
   "cell_type": "code",
   "execution_count": 12,
   "metadata": {},
   "outputs": [],
   "source": [
    "def pointsToSecretInt(points):\n",
    "    freeCoefficient = modularLagrangeInterpolation(0, points, prime)\n",
    "    secretInt = freeCoefficient  # the secret int is the free coefficient\n",
    "    return secretInt"
   ]
  },
  {
   "cell_type": "markdown",
   "metadata": {},
   "source": [
    "Using extended Euclid's algorithm to find GCD"
   ]
  },
  {
   "cell_type": "code",
   "execution_count": 13,
   "metadata": {},
   "outputs": [],
   "source": [
    "def egcd(a, b):\n",
    "    if a == 0:\n",
    "        return (b, 0, 1)\n",
    "    else:\n",
    "        g, y, x = egcd(b % a, a)\n",
    "        return (g, x - (b // a) * y, y)"
   ]
  },
  {
   "cell_type": "markdown",
   "metadata": {},
   "source": [
    "Computing a modular inverse given a finite field of a prime number P."
   ]
  },
  {
   "cell_type": "code",
   "execution_count": 14,
   "metadata": {},
   "outputs": [],
   "source": [
    "def mod_inverse(k, prime):\n",
    "    k = k % prime\n",
    "    if k < 0:\n",
    "        r = egcd(prime, -k)[2]\n",
    "    else:\n",
    "        r = egcd(prime, k)[2]\n",
    "    return (prime + r) % prime"
   ]
  },
  {
   "cell_type": "markdown",
   "metadata": {},
   "source": [
    "Lagrange interpolation works by finding the Lagrange basis polynomial for every point in the set. A linear combination of the basis polynomials scaled by the y values at those points."
   ]
  },
  {
   "cell_type": "code",
   "execution_count": 15,
   "metadata": {},
   "outputs": [],
   "source": [
    "def modularLagrangeInterpolation(x, points, prime):    \n",
    "    x_values, y_values = zip(*points)    \n",
    "    f_x = 0\n",
    "    for i in range(len(points)):        \n",
    "        numerator=denominator = 1\n",
    "        for j in range(len(points)):            \n",
    "            if i == j:\n",
    "                continue            \n",
    "            numerator = (numerator * (x - x_values[j])) % prime\n",
    "            denominator = (denominator * (x_values[i] - x_values[j])) % prime\n",
    "        # get the polynomial from the numerator + denominator mod inverse\n",
    "        lagrange_polynomial = numerator * mod_inverse(denominator, prime)\n",
    "        # multiply the current y & the evaluated polynomial & add it to f(x)\n",
    "        f_x = (prime + f_x + (y_values[i] * lagrange_polynomial)) % prime    \n",
    "    return f_x"
   ]
  },
  {
   "cell_type": "markdown",
   "metadata": {},
   "source": [
    "From knowledge of just the shares and the threshold, the secret is recovered by interpolation if a random polynomial."
   ]
  },
  {
   "cell_type": "code",
   "execution_count": 16,
   "metadata": {},
   "outputs": [],
   "source": [
    "def recoverSecret(a):\n",
    "    print(\"Number of shares supplied:\",len(a))\n",
    "    print(\"Shares supplied:\",a)\n",
    "    print(\"Threshold required for secret recovery:\",threshold)\n",
    "    if(len(a)<threshold):\n",
    "        raise ValueError(\"Not enough shares\")\n",
    "\n",
    "    points=[]\n",
    "    for i in a:\n",
    "        points.append(shareStringToPoint(i))\n",
    "    #print(\"point2\",points,\"\\n\")\n",
    "    sec=pointsToSecretInt(points) #after lagrange\n",
    "    secHex=hex(sec)\n",
    "    #print(sec,\"\\n\")\n",
    "    #print(secHex)\n",
    "    print(\"\\nRecovered secret:\\n\",decodeFromHex(str(secHex)[2:]))"
   ]
  },
  {
   "cell_type": "markdown",
   "metadata": {},
   "source": [
    "Splitting shares and recovering them"
   ]
  },
  {
   "cell_type": "code",
   "execution_count": 17,
   "metadata": {},
   "outputs": [
    {
     "name": "stdout",
     "output_type": "stream",
     "text": [
      "All generated shares\n",
      " ['0x1-0x54375e634f49896aa6d2df0f31033364241d74db706e87695c1b663f3b5fb771', '0x2-0x460d4e622c23b065d9855bbcf3a2465fe6d6c9497f70a85d49d358150751097e', '0x3-0x37e33e6108fdd7610c37d86ab641595ba9901db78e72c951378b49ead3425b8b', '0x4-0x29b92e5fe5d7fe5c3eea551878e06c576c4972259d74ea4525433bc09f33ad98', '0x5-0x1b8f1e5ec2b22557719cd1c63b7f7f532f02c693ac770b3912fb2d966b24ffa5', '0x6-0xd650e5d9f8c4c52a44f4e73fe1e924ef1bc1b01bb792c2d00b31f6c371651b2'] \n",
      "\n",
      "Number of shares supplied: 0\n",
      "Shares supplied: []\n",
      "Threshold required for secret recovery: 2\n"
     ]
    },
    {
     "ename": "ValueError",
     "evalue": "Not enough shares",
     "output_type": "error",
     "traceback": [
      "\u001b[0;31m---------------------------------------------------------------------------\u001b[0m",
      "\u001b[0;31mValueError\u001b[0m                                Traceback (most recent call last)",
      "\u001b[0;32m<ipython-input-17-40de8072cae2>\u001b[0m in \u001b[0;36m<module>\u001b[0;34m()\u001b[0m\n\u001b[1;32m      1\u001b[0m \u001b[0ma\u001b[0m\u001b[0;34m=\u001b[0m\u001b[0msplitShares\u001b[0m\u001b[0;34m(\u001b[0m\u001b[0msecretString\u001b[0m\u001b[0;34m)\u001b[0m\u001b[0;34m\u001b[0m\u001b[0m\n\u001b[1;32m      2\u001b[0m \u001b[0mprint\u001b[0m\u001b[0;34m(\u001b[0m\u001b[0;34m\"All generated shares\\n\"\u001b[0m\u001b[0;34m,\u001b[0m\u001b[0ma\u001b[0m\u001b[0;34m,\u001b[0m\u001b[0;34m\"\\n\"\u001b[0m\u001b[0;34m)\u001b[0m\u001b[0;34m\u001b[0m\u001b[0m\n\u001b[0;32m----> 3\u001b[0;31m \u001b[0mrecoverSecret\u001b[0m\u001b[0;34m(\u001b[0m\u001b[0ma\u001b[0m\u001b[0;34m[\u001b[0m\u001b[0;36m6\u001b[0m\u001b[0;34m:\u001b[0m\u001b[0;34m]\u001b[0m\u001b[0;34m)\u001b[0m\u001b[0;34m\u001b[0m\u001b[0m\n\u001b[0m",
      "\u001b[0;32m<ipython-input-16-737adbf9228b>\u001b[0m in \u001b[0;36mrecoverSecret\u001b[0;34m(a)\u001b[0m\n\u001b[1;32m      4\u001b[0m     \u001b[0mprint\u001b[0m\u001b[0;34m(\u001b[0m\u001b[0;34m\"Threshold required for secret recovery:\"\u001b[0m\u001b[0;34m,\u001b[0m\u001b[0mthreshold\u001b[0m\u001b[0;34m)\u001b[0m\u001b[0;34m\u001b[0m\u001b[0m\n\u001b[1;32m      5\u001b[0m     \u001b[0;32mif\u001b[0m\u001b[0;34m(\u001b[0m\u001b[0mlen\u001b[0m\u001b[0;34m(\u001b[0m\u001b[0ma\u001b[0m\u001b[0;34m)\u001b[0m\u001b[0;34m<\u001b[0m\u001b[0mthreshold\u001b[0m\u001b[0;34m)\u001b[0m\u001b[0;34m:\u001b[0m\u001b[0;34m\u001b[0m\u001b[0m\n\u001b[0;32m----> 6\u001b[0;31m         \u001b[0;32mraise\u001b[0m \u001b[0mValueError\u001b[0m\u001b[0;34m(\u001b[0m\u001b[0;34m\"Not enough shares\"\u001b[0m\u001b[0;34m)\u001b[0m\u001b[0;34m\u001b[0m\u001b[0m\n\u001b[0m\u001b[1;32m      7\u001b[0m \u001b[0;34m\u001b[0m\u001b[0m\n\u001b[1;32m      8\u001b[0m     \u001b[0mpoints\u001b[0m\u001b[0;34m=\u001b[0m\u001b[0;34m[\u001b[0m\u001b[0;34m]\u001b[0m\u001b[0;34m\u001b[0m\u001b[0m\n",
      "\u001b[0;31mValueError\u001b[0m: Not enough shares"
     ]
    }
   ],
   "source": [
    "a=splitShares(secretString)\n",
    "print(\"All generated shares\\n\",a,\"\\n\")\n",
    "recoverSecret(a[6:])"
   ]
  },
  {
   "cell_type": "code",
   "execution_count": null,
   "metadata": {},
   "outputs": [],
   "source": []
  }
 ],
 "metadata": {
  "kernelspec": {
   "display_name": "Python 3",
   "language": "python",
   "name": "python3"
  },
  "language_info": {
   "codemirror_mode": {
    "name": "ipython",
    "version": 3
   },
   "file_extension": ".py",
   "mimetype": "text/x-python",
   "name": "python",
   "nbconvert_exporter": "python",
   "pygments_lexer": "ipython3",
   "version": "3.6.5"
  }
 },
 "nbformat": 4,
 "nbformat_minor": 2
}
