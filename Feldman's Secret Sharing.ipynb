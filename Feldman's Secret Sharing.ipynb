{
 "cells": [
  {
   "cell_type": "markdown",
   "metadata": {},
   "source": [
    "<h1> Feldman's Secret Sharing </h1>\n",
    "This is a modification of Shamir's Secret Sharing Scheme, to make the generated shares verifiable. For each of the coefficients of the randomly generated polynomial, a commitment is generated. <br>\n",
    "These commitments can be used to verify that any given share that a person holds is valid. "
   ]
  },
  {
   "cell_type": "code",
   "execution_count": 39,
   "metadata": {},
   "outputs": [],
   "source": [
    "secretInt=0\n",
    "p=11 #for commitments\n",
    "q=5 #for polynomial\n",
    "g=3 #generator for subgroup of order 5\n",
    "coefficients=[0,3,3]  #given the coefficients of the polynomial, where the first element is the secret      \n",
    "commitments=[]"
   ]
  },
  {
   "cell_type": "markdown",
   "metadata": {},
   "source": [
    "Generating the shares from the coefficients of the polynomial."
   ]
  },
  {
   "cell_type": "code",
   "execution_count": 52,
   "metadata": {},
   "outputs": [
    {
     "name": "stdout",
     "output_type": "stream",
     "text": [
      "3\n"
     ]
    }
   ],
   "source": [
    "def polyValue(point):\n",
    "    value=0\n",
    "    for i in range(len(coefficients)):\n",
    "        temp=coefficients[i]*pow(point,i)\n",
    "        value+=temp\n",
    "    value%=q\n",
    "    return value\n",
    "share=polyValue(2)\n",
    "print(share)"
   ]
  },
  {
   "cell_type": "markdown",
   "metadata": {},
   "source": [
    "Generating commitments for each of the coefficients. Each commitment is of the form pow(generator, coefficient)."
   ]
  },
  {
   "cell_type": "code",
   "execution_count": 53,
   "metadata": {},
   "outputs": [
    {
     "name": "stdout",
     "output_type": "stream",
     "text": [
      "[1, 5, 5]\n"
     ]
    }
   ],
   "source": [
    "def genCommitments(coefficients):\n",
    "    commitments=[pow(g,i,p) for i in coefficients]\n",
    "    return commitments\n",
    "commitments=genCommitments(coefficients)\n",
    "print(commitments)"
   ]
  },
  {
   "cell_type": "code",
   "execution_count": 58,
   "metadata": {},
   "outputs": [
    {
     "name": "stdout",
     "output_type": "stream",
     "text": [
      "1\n",
      "125\n",
      "1953125\n",
      "('Share is valid', 3)\n"
     ]
    }
   ],
   "source": [
    "def verify(commitments,share):\n",
    "    checkVal=1\n",
    "    for i in range(len(commitments)):\n",
    "        #print(i)\n",
    "        #print(pow(share,i))\n",
    "        temp=pow(commitments[i],pow(share,i))\n",
    "        print(temp)\n",
    "        checkVal*=temp\n",
    "    checkVal%=p\n",
    "    if(checkVal==share):\n",
    "        return (\"Share is valid\",checkVal)\n",
    "    else:\n",
    "        return (\"Share is invalid\",checkVal)\n",
    "    \n",
    "print(verify(commitments,share))"
   ]
  },
  {
   "cell_type": "code",
   "execution_count": null,
   "metadata": {},
   "outputs": [],
   "source": []
  }
 ],
 "metadata": {
  "kernelspec": {
   "display_name": "Python 3",
   "language": "python",
   "name": "python3"
  },
  "language_info": {
   "codemirror_mode": {
    "name": "ipython",
    "version": 3
   },
   "file_extension": ".py",
   "mimetype": "text/x-python",
   "name": "python",
   "nbconvert_exporter": "python",
   "pygments_lexer": "ipython3",
   "version": "3.6.5"
  }
 },
 "nbformat": 4,
 "nbformat_minor": 2
}
