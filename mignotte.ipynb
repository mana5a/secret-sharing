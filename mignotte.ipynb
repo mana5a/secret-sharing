{
 "cells": [
  {
   "cell_type": "markdown",
   "metadata": {},
   "source": [
    "## Mignotte's Secret Sharing"
   ]
  },
  {
   "cell_type": "code",
   "execution_count": 1,
   "metadata": {
    "collapsed": true
   },
   "outputs": [],
   "source": [
    "import random\n",
    "import numpy as np\n",
    "from functools import reduce\n",
    "from math import sqrt"
   ]
  },
  {
   "cell_type": "code",
   "execution_count": 2,
   "metadata": {
    "collapsed": true
   },
   "outputs": [],
   "source": [
    "def generate_primes(start,n):\n",
    "    '''\n",
    "    params- start:The first prime in the generated mignotte sequence, \n",
    "            n:The number of primes in the mignotte sequence\n",
    "    returns- A list of primes (potentially a mignotte sequence)\n",
    "    '''\n",
    "    mignotte = []\n",
    "    primes=[2]\n",
    "    p=3\n",
    "    while(len(mignotte)<n):\n",
    "        stop_iter=sqrt(p)\n",
    "        i=0\n",
    "        flag=True\n",
    "        while(primes[i]<=stop_iter):\n",
    "            if(p%primes[i]==0):\n",
    "                flag=False\n",
    "                break\n",
    "            elif(i>=len(primes)):\n",
    "                break\n",
    "            i+=1\n",
    "            \n",
    "        if(flag):\n",
    "            primes.append(p)\n",
    "            if(p>start):\n",
    "                mignotte.append(p)\n",
    "        p+=2\n",
    "    return(mignotte)\n",
    "\n",
    "def check_mignotte_sequence(n,k,mignotte_seq):\n",
    "    '''\n",
    "    params- n:The number of participants, \n",
    "            k:the number of available shares, \n",
    "            mignotte_seq: the potential mignotte sequence\n",
    "    returns- True if mignotte_seq is a mignotte sequence and False otherwise. Also returns the lower and upper bound of the secret\n",
    "    '''\n",
    "    p1=1\n",
    "    for i in range(0,k):\n",
    "        p1*=mignotte_seq[i]\n",
    "    p2=1\n",
    "    for i in range(n-k+1,n):\n",
    "        p2*=mignotte_seq[i]\n",
    "    return((p1>p2,p1,p2)) \n",
    "\n",
    "def generate_key(lower_bound,upper_bound):\n",
    "    '''\n",
    "    params: The lower and upper limit of the range of values the secret can take\n",
    "    returns: A random integer within the range (lower_bound, upper_bound) i.e the secret\n",
    "    '''\n",
    "    return(random.randint(lower_bound+1,upper_bound-1))\n",
    "\n",
    "def split_key(S,M):\n",
    "    '''\n",
    "    params- S: the secret, \n",
    "            M: the mignotte sequence\n",
    "    returns- The shares dsitributed to each of n users\n",
    "    '''\n",
    "    shares=[]\n",
    "    for i in M:\n",
    "        shares.append(S%i)\n",
    "    return(shares)\n",
    "\n",
    "def extended_euclid(a,b):\n",
    "    '''\n",
    "    Find the gcd of params a,b and computes integers x,y such that ax+by=gcd(a,b)\n",
    "    '''\n",
    "    if(b==0):\n",
    "        return(a,1,0)\n",
    "    d,x,y=extended_euclid(b,a%b)\n",
    "    return((d,y,x-(a//b)*y))\n",
    "\n",
    "def chinese_remainder_theorem(M,shares,k):\n",
    "    '''\n",
    "    params- M: the primes corresponding to the shares available, \n",
    "            shares: the shares available,\n",
    "            k: Number of shares available\n",
    "    returns- The unique solution modulo prod(M) to the system of equations described by y=shares_i(mod M_i)\n",
    "    '''\n",
    "    if(len(shares)<k):\n",
    "        return(-1)\n",
    "    prod=reduce(lambda x,y: x*y, M)\n",
    "    m=[prod//M[i] for i in range(0,k)]\n",
    "    c=[extended_euclid(m[i],M[i])[1]%M[i] for i in range(0,k)]\n",
    "    A=[c[i]*shares[i]*m[i] for i in range(k)]\n",
    "    return(sum(A)%prod)\n"
   ]
  },
  {
   "cell_type": "markdown",
   "metadata": {},
   "source": [
    "### A (10,3) Mignotte Secret Sharing Example"
   ]
  },
  {
   "cell_type": "code",
   "execution_count": 3,
   "metadata": {},
   "outputs": [
    {
     "name": "stdout",
     "output_type": "stream",
     "text": [
      "(n,k) (10, 3)\n",
      "Secret:  130746654\n",
      "Mignotte Sequence: \n",
      "[1009, 1013, 1019, 1021, 1031, 1033, 1039, 1049, 1051, 1061]\n",
      "Shares: \n",
      "[434, 770, 802, 457, 389, 877, 972, 343, 152, 685]\n",
      "Recovered Secret : 130746654\n"
     ]
    }
   ],
   "source": [
    "M=[]\n",
    "n=10\n",
    "k=3\n",
    "\n",
    "print(\"(n,k)\",(n,k))\n",
    "mignotte_condition=False\n",
    "start=1000\n",
    "\n",
    "while(not(mignotte_condition)):\n",
    "    start+=1\n",
    "    M=generate_primes(start,n)\n",
    "    mignotte_condition,upper_bound,lower_bound=check_mignotte_sequence(n,k,M)\n",
    "\n",
    "S=generate_key(lower_bound,upper_bound)\n",
    "print(\"Secret: \",S)\n",
    "print(\"Mignotte Sequence: \")\n",
    "print(M)\n",
    "shares=split_key(S,M)\n",
    "\n",
    "share_no=list(range(n))\n",
    "available_shares=random.sample(share_no,k)\n",
    "\n",
    "M_s=[M[i] for i in available_shares]\n",
    "s=[shares[i] for i in available_shares]\n",
    "print(\"Shares: \")\n",
    "print(shares)\n",
    "# print(chinese_remainder_theorem(M[0:k],shares[0:k],k))\n",
    "print(\"Recovered Secret :\",chinese_remainder_theorem(M_s,s,k))"
   ]
  }
 ],
 "metadata": {
  "kernelspec": {
   "display_name": "Python 3",
   "language": "python",
   "name": "python3"
  },
  "language_info": {
   "codemirror_mode": {
    "name": "ipython",
    "version": 3
   },
   "file_extension": ".py",
   "mimetype": "text/x-python",
   "name": "python",
   "nbconvert_exporter": "python",
   "pygments_lexer": "ipython3",
   "version": "3.6.5"
  }
 },
 "nbformat": 4,
 "nbformat_minor": 2
}
