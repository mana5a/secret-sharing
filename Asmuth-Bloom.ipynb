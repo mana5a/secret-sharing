{
 "cells": [
  {
   "cell_type": "markdown",
   "metadata": {},
   "source": [
    "## Asmuth-Bloom Secret Sharing"
   ]
  },
  {
   "cell_type": "code",
   "execution_count": 1,
   "metadata": {
    "collapsed": true
   },
   "outputs": [],
   "source": [
    "from math import sqrt\n",
    "from functools import reduce\n",
    "import random"
   ]
  },
  {
   "cell_type": "code",
   "execution_count": 2,
   "metadata": {
    "collapsed": true
   },
   "outputs": [],
   "source": [
    "def generate_primes(secret,n):\n",
    "    '''\n",
    "    params- start:The first prime in the generated mignotte sequence, n:The number of primes in the mignotte sequence\n",
    "    returns- A list of primes (potentially a mignotte sequence)\n",
    "    '''\n",
    "    asmuth_bloom = []\n",
    "    primes=[2]\n",
    "    p=3\n",
    "    while(len(asmuth_bloom)<n):\n",
    "        stop_iter=sqrt(p)\n",
    "        i=0\n",
    "        flag=True\n",
    "        while(primes[i]<=stop_iter):\n",
    "            if(p%primes[i]==0):\n",
    "                flag=False\n",
    "                break\n",
    "            elif(i>=len(primes)):\n",
    "                break\n",
    "            i+=1\n",
    "            \n",
    "        if(flag):\n",
    "            primes.append(p)\n",
    "            if(p>secret):\n",
    "                asmuth_bloom.append(p)\n",
    "        p+=2\n",
    "    return(asmuth_bloom)\n",
    "\n",
    "def check_asmuth_bloom_seq(seq,n,k):\n",
    "    '''\n",
    "    params- seq:The potential Asmuth-Bloom sequence, n:number of participants, k:number of shares available\n",
    "    returns- True if the sequence is an Asmuth-Bloom Sequence and the product of the first k primes in the sequence\n",
    "    '''\n",
    "    p1=1\n",
    "    for i in range(1,k+1):\n",
    "        p1*=seq[i]\n",
    "    p2=seq[0]\n",
    "    for i in range(n-k+2,n+1):\n",
    "        p2*=seq[i]\n",
    "    \n",
    "    return((p1>p2,p1))\n",
    "\n",
    "def generate_shares(secret,n,k):\n",
    "    '''\n",
    "    params- secret: the key to be split, n: the number of partipants, \n",
    "            k: the threshold of shares required to reconstruct the secret\n",
    "    returns- The Asmuth-Bloom Sequence generated, and n shares of the secret\n",
    "    '''\n",
    "    M=generate_primes(secret,1)\n",
    "    for i in generate_primes(M[0]*3,n):\n",
    "        M.append(i)\n",
    "    is_asmuth_bloom_seq=check_asmuth_bloom_seq(M,n,k)\n",
    "    \n",
    "    print(\"Asmuth Bloom Sequence :\")\n",
    "    print(M)\n",
    "    \n",
    "    test,p1=is_asmuth_bloom_seq\n",
    "    \n",
    "    if(test):\n",
    "        print(\"Asmuth-Bloom Condition Satisfied\")\n",
    "    else:\n",
    "        print(\"Not a valid Asmuth-Bloom Sequence\")\n",
    "        \n",
    "    product_seq=reduce(lambda x,y:x*y,M[1::])\n",
    "    \n",
    "    y=secret\n",
    "    while(True):\n",
    "            a=random.randint(1,p1//2-1)\n",
    "            y=secret+a*M[0]\n",
    "            if(0<=y<=p1):\n",
    "                break\n",
    "    shares=[y%M[i] for i in range(1,n+1)]\n",
    "    return(M,shares)\n",
    "\n",
    "def extended_euclid(a,b):\n",
    "    '''\n",
    "    Find the gcd of params a,b and computes integers x,y such that ax+by=gcd(a,b)\n",
    "    '''\n",
    "    if(b==0):\n",
    "        return(a,1,0)\n",
    "    d,x,y=extended_euclid(b,a%b)\n",
    "    return((d,y,x-(a//b)*y))\n",
    "\n",
    "\n",
    "def chinese_remainder_theorem(M,shares,k):\n",
    "    '''\n",
    "    params- M: the primes corresponding to the shares available, shares: the shares available,\n",
    "            k: Number of shares available\n",
    "    returns- The unique solution modulo prod(M) to the system of equations described by y=shares_i(mod M_i)\n",
    "    '''\n",
    "    if(len(shares)<k):\n",
    "        return(-1)\n",
    "    prod=reduce(lambda x,y: x*y, M)\n",
    "    m=[prod//M[i] for i in range(0,k)]\n",
    "    c=[extended_euclid(m[i],M[i])[1]%M[i] for i in range(0,k)]\n",
    "    A=[c[i]*shares[i]*m[i] for i in range(k)]\n",
    "    return(sum(A)%prod)\n",
    "\n"
   ]
  },
  {
   "cell_type": "markdown",
   "metadata": {},
   "source": [
    "### A (10,3) Asmuth-Bloom Example <br>\n",
    "(n,k)=(10,3) <br>\n",
    "Secret=123456"
   ]
  },
  {
   "cell_type": "code",
   "execution_count": 3,
   "metadata": {},
   "outputs": [
    {
     "name": "stdout",
     "output_type": "stream",
     "text": [
      "(n,k) : (5, 3)\n",
      "Secret : 123456\n",
      "Asmuth Bloom Sequence :\n",
      "[123457, 370373, 370387, 370399, 370411, 370421]\n",
      "Asmuth-Bloom Condition Satisfied\n",
      "Shares: \n",
      "[335650, 164479, 208553, 340878, 254545]\n",
      "Recovered Secret 123456\n"
     ]
    }
   ],
   "source": [
    "n,k=5,3\n",
    "S=123456\n",
    "print(\"(n,k) :\",(n,k))\n",
    "print(\"Secret :\",S)\n",
    "\n",
    "share_no=list(range(n))\n",
    "available_shares=random.sample(share_no,k)\n",
    "\n",
    "M,shares=generate_shares(S,n,k)\n",
    "M_fil=M[1::]\n",
    "\n",
    "M_s=[M_fil[i] for i in available_shares]\n",
    "s=[shares[i] for i in available_shares]\n",
    "print(\"Shares: \")\n",
    "print(shares)\n",
    "\n",
    "y1=chinese_remainder_theorem(M_s,s,k)\n",
    "if y1==-1:\n",
    "    print(\"Insufficient Shares Available\")\n",
    "else:\n",
    "    print(\"Recovered Secret\",y1%M[0])"
   ]
  },
  {
   "cell_type": "code",
   "execution_count": null,
   "metadata": {
    "collapsed": true
   },
   "outputs": [],
   "source": []
  }
 ],
 "metadata": {
  "kernelspec": {
   "display_name": "Python 3",
   "language": "python",
   "name": "python3"
  },
  "language_info": {
   "codemirror_mode": {
    "name": "ipython",
    "version": 3
   },
   "file_extension": ".py",
   "mimetype": "text/x-python",
   "name": "python",
   "nbconvert_exporter": "python",
   "pygments_lexer": "ipython3",
   "version": "3.6.5"
  }
 },
 "nbformat": 4,
 "nbformat_minor": 2
}
